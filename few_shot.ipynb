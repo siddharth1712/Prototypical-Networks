{
 "cells": [
  {
   "cell_type": "code",
   "execution_count": 1,
   "metadata": {},
   "outputs": [],
   "source": [
    "import os\n",
    "import random\n",
    "import torch\n",
    "import pandas as pd\n",
    "from skimage import io, transform\n",
    "import numpy as np\n",
    "import matplotlib.pyplot as plt\n",
    "from torch.utils.data import Dataset, DataLoader\n",
    "from torchvision import transforms, utils\n",
    "from torchvision import datasets\n",
    "from torchvision.transforms import ToTensor"
   ]
  },
  {
   "cell_type": "code",
   "execution_count": 2,
   "metadata": {},
   "outputs": [
    {
     "name": "stdout",
     "output_type": "stream",
     "text": [
      "Using  cuda\n"
     ]
    }
   ],
   "source": [
    "if torch.cuda.is_available():\n",
    "    device = \"cuda\"\n",
    "else:\n",
    "    device = \"cpu\"\n",
    "print(\"Using \",device)    "
   ]
  },
  {
   "cell_type": "code",
   "execution_count": 3,
   "metadata": {},
   "outputs": [],
   "source": [
    "train_data_dir = \"./data/omniglot/train\"\n",
    "test_data_dir = \"./data/omniglot/test\""
   ]
  },
  {
   "cell_type": "code",
   "execution_count": 4,
   "metadata": {},
   "outputs": [],
   "source": [
    "class Omniglot(datasets.ImageFolder):\n",
    "    def __init__(self,root_dir,train=True,transform=None):\n",
    "        if (train == True):\n",
    "            self.data_dir = root_dir + \"/train\"\n",
    "        else:\n",
    "            self.data_dir = root_dir + \"/test\"\n",
    "            \n",
    "        super().__init__(root=self.data_dir,transform=transform)\n",
    "    \n",
    "    def find_classes(self, directory):\n",
    "        alphabets = sorted(entry.name for entry in os.scandir(directory) if entry.is_dir())\n",
    "        classes = []\n",
    "        for alphabet in alphabets:\n",
    "            alphabet_dir = os.path.join(directory,alphabet)\n",
    "            characters = sorted(entry.name for entry in os.scandir(alphabet_dir) if entry.is_dir())\n",
    "            characters = [alphabet +\"/\"+ chr for chr in characters]\n",
    "            classes += characters\n",
    "\n",
    "        class_to_idx = {cls_name: i for i, cls_name in enumerate(classes)}\n",
    "        \n",
    "        return classes, class_to_idx\n",
    "    \n",
    "    def get_batch(self,Nc,Ns,Nq):\n",
    "        unique_targets = list(np.unique(self.targets))\n",
    "        picked_classes = random.sample(unique_targets,Nc)\n",
    "        all_support_samples = []\n",
    "        all_query_samples = []\n",
    "        support_targets = []\n",
    "        query_targets = []\n",
    "        for pc in picked_classes:\n",
    "            picked_samples = [s[0] for s in self.samples if s[1] == pc]\n",
    "            \n",
    "            support_samples =  random.sample(picked_samples,Ns)\n",
    "            all_support_samples.append([self.get_item_from_path(ss) for ss in support_samples])\n",
    "            support_targets.append([pc]*Ns)\n",
    "            \n",
    "            remaining_samples = [rs for rs in picked_samples if rs not in support_samples]\n",
    "            \n",
    "            query_samples = random.sample(remaining_samples,Nq)\n",
    "            all_query_samples.append([self.get_item_from_path(qs) for qs in query_samples])\n",
    "            query_targets.append([pc]*Nq)\n",
    "        \n",
    "        return {\n",
    "            \"support\" : (torch.stack([torch.stack(row) for row in all_support_samples]),\n",
    "                         torch.tensor(support_targets)),\n",
    "            \"query\" : (torch.stack([torch.stack(row) for row in all_query_samples]),\n",
    "                         torch.tensor(query_targets)),\n",
    "            }\n",
    "        \n",
    "    def get_item_from_path(self,path):\n",
    "        sample = self.loader(path)\n",
    "        if self.transform is not None:\n",
    "            sample = self.transform(sample)\n",
    "        return sample\n",
    "        "
   ]
  },
  {
   "cell_type": "code",
   "execution_count": 5,
   "metadata": {},
   "outputs": [],
   "source": [
    "train_ds = Omniglot(root_dir=\"data/omniglot\",train=True,transform=ToTensor())\n",
    "test_ds = Omniglot(root_dir=\"data/omniglot\",train=False,transform=ToTensor())"
   ]
  },
  {
   "cell_type": "code",
   "execution_count": 6,
   "metadata": {},
   "outputs": [
    {
     "name": "stdout",
     "output_type": "stream",
     "text": [
      "torch.Size([5, 5, 3, 105, 105])\n"
     ]
    }
   ],
   "source": [
    "batch  = train_ds.get_batch(5,5,1)\n",
    "print(batch[\"support\"][0].shape)"
   ]
  },
  {
   "cell_type": "code",
   "execution_count": 7,
   "metadata": {},
   "outputs": [],
   "source": [
    "import torch.nn as nn\n",
    "import torch.nn.functional as F\n",
    "\n",
    "def conv_block(in_channels,out_channels):\n",
    "    conv = nn.Sequential(\n",
    "        nn.Conv2d(in_channels,out_channels,3),\n",
    "        nn.BatchNorm2d(out_channels),\n",
    "        nn.ReLU(),\n",
    "        nn.MaxPool2d(2)\n",
    "    )\n",
    "    \n",
    "    return conv\n",
    "\n",
    "class Net(nn.Module):\n",
    "    def __init__(self):\n",
    "        super().__init__()\n",
    "        self.conv1 = conv_block(3,64)\n",
    "        self.conv2 = conv_block(64,64)\n",
    "        self.conv3 = conv_block(64,64)\n",
    "        self.conv4 = conv_block(64,64)\n",
    "        \n",
    "        self.flatten = nn.Flatten()\n",
    "        self.linear1 = nn.Linear(1024,64)\n",
    "        \n",
    "    def forward(self,x):\n",
    "        x = self.conv1(x)\n",
    "        x = self.conv2(x)\n",
    "        x = self.conv3(x)\n",
    "        x = self.conv4(x)\n",
    "\n",
    "        x = self.flatten(x)\n",
    "        x = self.linear1(x)\n",
    "        \n",
    "        return x"
   ]
  },
  {
   "cell_type": "code",
   "execution_count": 8,
   "metadata": {},
   "outputs": [],
   "source": [
    "my_model = Net()\n",
    "my_model = my_model.to(device)"
   ]
  },
  {
   "cell_type": "code",
   "execution_count": 9,
   "metadata": {},
   "outputs": [],
   "source": [
    "import torch.optim as optim\n",
    "optimizer = optim.Adam(my_model.parameters(), lr=0.001)"
   ]
  },
  {
   "cell_type": "code",
   "execution_count": 10,
   "metadata": {},
   "outputs": [],
   "source": [
    "def calc_loss(dist_matrix):  \n",
    "    Nc,N = dist_matrix.shape\n",
    "    Nq = int(N/Nc)\n",
    "    \n",
    "    sum_dist = torch.sum(dist_matrix,dim=0)\n",
    "    prob = torch.log(torch.divide(dist_matrix,sum_dist))\n",
    "    prob = torch.reshape(prob,(Nc,Nc,Nq))\n",
    "    loss = -1*torch.mean(torch.diagonal(prob,dim1=0,dim2=1))\n",
    "    \n",
    "    return loss"
   ]
  },
  {
   "cell_type": "code",
   "execution_count": 11,
   "metadata": {},
   "outputs": [],
   "source": [
    "def calc_acc(dist_matrix): \n",
    "    Nc,N = dist_matrix.shape\n",
    "    Nq = int(N/Nc)\n",
    "       \n",
    "    true_vals = torch.arange(0,Nc)\n",
    "    true_vals = true_vals.repeat_interleave(Nq)\n",
    "    true_vals = true_vals.to(device)\n",
    "    pred = torch.argmax(dist_matrix,dim=0)\n",
    "    acc = torch.sum(pred==true_vals)/(Nc*Nq)\n",
    "    \n",
    "    return acc"
   ]
  },
  {
   "cell_type": "code",
   "execution_count": 12,
   "metadata": {},
   "outputs": [],
   "source": [
    "def train(num_episodes,Nc,Ns,Nq):\n",
    "    for episode in range(num_episodes):\n",
    "        batch_data = train_ds.get_batch(Nc,Ns,Nq)\n",
    "        support_data = batch_data[\"support\"][0]\n",
    "        _,_,in_C,H,W = support_data.shape\n",
    "        \n",
    "        support_data = support_data.to(device)\n",
    "        \n",
    "        optimizer.zero_grad()\n",
    "        \n",
    "        support_embeddings = my_model(torch.reshape(support_data,(Nc*Ns,in_C,H,W)))\n",
    "        _,out_C = support_embeddings.shape\n",
    "        support_embeddings = torch.reshape(support_embeddings,(Nc,Ns,out_C))\n",
    "        prototypes = torch.mean(support_embeddings,dim=1)\n",
    "        \n",
    "        query_data = batch_data[\"query\"][0]\n",
    "        query_data = query_data.to(device)\n",
    "        \n",
    "        query_embeddings = my_model(torch.reshape(query_data,(Nc*Nq,in_C,H,W)))\n",
    "        \n",
    "        prototypes = torch.unsqueeze(prototypes,0)\n",
    "        all_query = torch.unsqueeze(query_embeddings,0)\n",
    "\n",
    "        dist_matrix = torch.exp(-1*torch.squeeze(torch.cdist(prototypes,all_query,p=2)))\n",
    "        \n",
    "        loss = calc_loss(dist_matrix)\n",
    "        acc = calc_acc(dist_matrix)\n",
    "        \n",
    "        loss.backward()\n",
    "        optimizer.step()\n",
    "        \n",
    "        if (episode % 50 == 0):\n",
    "            print(\"Episode = \",episode + 1)\n",
    "            print(\"Loss = \",loss.item())\n",
    "            print(\"Accuracy = \",acc.item()*100)"
   ]
  },
  {
   "cell_type": "code",
   "execution_count": 13,
   "metadata": {},
   "outputs": [],
   "source": [
    "def test(num_episodes,Nc,Ns,Nq):\n",
    "    with torch.no_grad():\n",
    "        running_loss = 0\n",
    "        running_acc = 0.0\n",
    "        my_model.eval()\n",
    "        for episode in range(num_episodes):\n",
    "            batch_data = test_ds.get_batch(Nc,Ns,Nq)\n",
    "            support_data = batch_data[\"support\"][0]\n",
    "            _,_,in_C,H,W = support_data.shape\n",
    "            \n",
    "            support_data = support_data.to(device)\n",
    "            \n",
    "            support_embeddings = my_model(torch.reshape(support_data,(Nc*Ns,in_C,H,W)))\n",
    "            _,out_C = support_embeddings.shape\n",
    "            support_embeddings = torch.reshape(support_embeddings,(Nc,Ns,out_C))\n",
    "            prototypes = torch.mean(support_embeddings,dim=1)\n",
    "            \n",
    "            query_data = batch_data[\"query\"][0]\n",
    "            query_data = query_data.to(device)\n",
    "            \n",
    "            query_embeddings = my_model(torch.reshape(query_data,(Nc*Nq,in_C,H,W)))\n",
    "            prototypes = torch.unsqueeze(prototypes,0)\n",
    "            all_query = torch.unsqueeze(query_embeddings,0)\n",
    "        \n",
    "            dist_matrix = torch.exp(-1*torch.squeeze(torch.cdist(prototypes,all_query,p=2)))\n",
    "            \n",
    "            loss = calc_loss(dist_matrix)\n",
    "            acc = calc_acc(dist_matrix)\n",
    "            \n",
    "            running_loss += loss.item()\n",
    "            running_acc += acc.item()\n",
    "            \n",
    "            if (episode % 50 == 49):\n",
    "                print(\"Episode = \",episode+1)\n",
    "                print(\"Running Loss = \",running_loss/(episode+1))\n",
    "                print(\"Running Accuracy = \",running_acc*100/((episode+1)))"
   ]
  },
  {
   "cell_type": "code",
   "execution_count": 14,
   "metadata": {},
   "outputs": [
    {
     "name": "stdout",
     "output_type": "stream",
     "text": [
      "Episode =  1\n",
      "Loss =  3.4850406646728516\n",
      "Accuracy =  41.66666865348816\n",
      "Episode =  51\n",
      "Loss =  0.52754807472229\n",
      "Accuracy =  85.00000238418579\n",
      "Episode =  101\n",
      "Loss =  0.3287772834300995\n",
      "Accuracy =  90.00000357627869\n",
      "Episode =  151\n",
      "Loss =  0.2181118130683899\n",
      "Accuracy =  92.66666769981384\n",
      "Episode =  201\n",
      "Loss =  0.19667868316173553\n",
      "Accuracy =  93.00000071525574\n",
      "Episode =  251\n",
      "Loss =  0.2035631388425827\n",
      "Accuracy =  93.99999976158142\n",
      "Episode =  301\n",
      "Loss =  0.2210637778043747\n",
      "Accuracy =  92.33333468437195\n",
      "Episode =  351\n",
      "Loss =  0.17340050637722015\n",
      "Accuracy =  94.66667175292969\n",
      "Episode =  401\n",
      "Loss =  0.12526540458202362\n",
      "Accuracy =  97.00000286102295\n",
      "Episode =  451\n",
      "Loss =  0.07841687649488449\n",
      "Accuracy =  98.66666793823242\n"
     ]
    }
   ],
   "source": [
    "train(500,60,5,5)"
   ]
  },
  {
   "cell_type": "code",
   "execution_count": 15,
   "metadata": {},
   "outputs": [
    {
     "name": "stdout",
     "output_type": "stream",
     "text": [
      "Episode =  50\n",
      "Running Loss =  0.11855718076229095\n",
      "Running Accuracy =  96.45999753475189\n",
      "Episode =  100\n",
      "Running Loss =  0.1222271459363401\n",
      "Running Accuracy =  96.24999749660492\n",
      "Episode =  150\n",
      "Running Loss =  0.12533172776922583\n",
      "Running Accuracy =  96.1999975045522\n",
      "Episode =  200\n",
      "Running Loss =  0.12641027564182877\n",
      "Running Accuracy =  96.1149974167347\n",
      "Episode =  250\n",
      "Running Loss =  0.1271176483258605\n",
      "Running Accuracy =  96.0999974489212\n",
      "Episode =  300\n",
      "Running Loss =  0.12369275968521834\n",
      "Running Accuracy =  96.1833307147026\n",
      "Episode =  350\n",
      "Running Loss =  0.12177459204835551\n",
      "Running Accuracy =  96.22856880937304\n",
      "Episode =  400\n",
      "Running Loss =  0.12237286294344812\n",
      "Running Accuracy =  96.19999738037586\n",
      "Episode =  450\n",
      "Running Loss =  0.12296191931184795\n",
      "Running Accuracy =  96.15777519014146\n",
      "Episode =  500\n",
      "Running Loss =  0.12464963607117534\n",
      "Running Accuracy =  96.12599741220474\n"
     ]
    }
   ],
   "source": [
    "test(500,20,5,5)"
   ]
  },
  {
   "cell_type": "code",
   "execution_count": 16,
   "metadata": {},
   "outputs": [],
   "source": [
    "torch.save(my_model.state_dict(), \"model.pth\")"
   ]
  },
  {
   "cell_type": "code",
   "execution_count": 37,
   "metadata": {},
   "outputs": [],
   "source": [
    "def get_predictions(dist_matrix):\n",
    "    Nc=5\n",
    "    Ns=5\n",
    "    Nq=5 \n",
    "    Nc,N = dist_matrix.shape\n",
    "    Nq = int(N/Nc)\n",
    "       \n",
    "    true_vals = torch.arange(0,Nc)\n",
    "    true_vals = true_vals.repeat_interleave(Nq)\n",
    "    true_vals = true_vals.to(device)\n",
    "    pred = torch.argmax(dist_matrix,dim=0)\n",
    "    \n",
    "    return pred"
   ]
  },
  {
   "cell_type": "code",
   "execution_count": 55,
   "metadata": {},
   "outputs": [],
   "source": [
    "def predict(batch_data,r_perm):\n",
    "    Nc=5\n",
    "    Ns=5\n",
    "    Nq=5\n",
    "    with torch.no_grad():\n",
    "        my_model.eval()\n",
    "        support_data = batch_data[\"support\"][0]\n",
    "        _,_,in_C,H,W = support_data.shape\n",
    "        \n",
    "        support_data = support_data.to(device)\n",
    "        \n",
    "        support_embeddings = my_model(torch.reshape(support_data,(Nc*Ns,in_C,H,W)))\n",
    "        _,out_C = support_embeddings.shape\n",
    "        support_embeddings = torch.reshape(support_embeddings,(Nc,Ns,out_C))\n",
    "        prototypes = torch.mean(support_embeddings,dim=1)\n",
    "        \n",
    "        query_data = batch_data[\"query\"][0]\n",
    "        _,_,C,H,W = query_data.shape\n",
    "        query_data = torch.reshape(query_data,(25,C,H,W))\n",
    "        \n",
    "        query_data = query_data[r_perm]\n",
    "        query_data = query_data.to(device)\n",
    "        \n",
    "        query_embeddings = my_model(torch.reshape(query_data,(Nc*Nq,in_C,H,W)))\n",
    "        prototypes = torch.unsqueeze(prototypes,0)\n",
    "        all_query = torch.unsqueeze(query_embeddings,0)\n",
    "    \n",
    "        dist_matrix = torch.exp(-1*torch.squeeze(torch.cdist(prototypes,all_query,p=2)))\n",
    "        pred = get_predictions(dist_matrix)\n",
    "        return pred"
   ]
  },
  {
   "cell_type": "code",
   "execution_count": 69,
   "metadata": {},
   "outputs": [],
   "source": [
    "example_batch = test_ds.get_batch(5,5,5)\n",
    "eg_support = example_batch[\"support\"][0].permute(0,1,3,4,2)\n",
    "eg_query = example_batch[\"query\"][0].permute(0,1,3,4,2)\n",
    "_,_,C,H,W = eg_query.shape\n",
    "eg_query = torch.reshape(eg_query,(25,C,H,W))\n",
    "r_perm = torch.randperm(25)\n",
    "eg_query = eg_query[r_perm]\n",
    "eg_query = eg_query.reshape((5,5,C,H,W))"
   ]
  },
  {
   "cell_type": "code",
   "execution_count": 70,
   "metadata": {},
   "outputs": [
    {
     "data": {
      "image/png": "[encoded data removed]",
      "text/plain": [
       "<Figure size 640x480 with 25 Axes>"
      ]
     },
     "metadata": {},
     "output_type": "display_data"
    }
   ],
   "source": [
    "fig, ax = plt.subplots(5,5)\n",
    "fig.suptitle('Support Images')\n",
    "for i in range(5):\n",
    "    for j in range(5):\n",
    "        img_tensor = eg_support[i][j]\n",
    "        np_img = img_tensor.detach().cpu().numpy()\n",
    "        ax[i,j].set_axis_off()\n",
    "        ax[i,j].imshow(np_img)\n",
    "        "
   ]
  },
  {
   "cell_type": "code",
   "execution_count": 71,
   "metadata": {},
   "outputs": [],
   "source": [
    "predictions = predict(example_batch,r_perm).reshape((5,5)).detach().cpu().numpy()"
   ]
  },
  {
   "cell_type": "code",
   "execution_count": 74,
   "metadata": {},
   "outputs": [
    {
     "data": {
      "image/png": "[encoded data removed]",
      "text/plain": [
       "<Figure size 640x480 with 25 Axes>"
      ]
     },
     "metadata": {},
     "output_type": "display_data"
    }
   ],
   "source": [
    "fig, ax = plt.subplots(5,5)\n",
    "fig.suptitle('Query Images')\n",
    "fig.tight_layout()\n",
    "for i in range(5):\n",
    "    for j in range(5):\n",
    "        img_tensor = eg_query[i][j]\n",
    "        np_img = img_tensor.detach().cpu().numpy()\n",
    "        ax[i,j].set_axis_off()\n",
    "        ax[i,j].imshow(np_img)\n",
    "        ax[i,j].set_title(\"Prediction = \"+str(predictions[i][j]))"
   ]
  }
 ],
 "metadata": {
  "kernelspec": {
   "display_name": "Python 3",
   "language": "python",
   "name": "python3"
  },
  "language_info": {
   "codemirror_mode": {
    "name": "ipython",
    "version": 3
   },
   "file_extension": ".py",
   "mimetype": "text/x-python",
   "name": "python",
   "nbconvert_exporter": "python",
   "pygments_lexer": "ipython3",
   "version": "3.10.5"
  }
 },
 "nbformat": 4,
 "nbformat_minor": 2
}
